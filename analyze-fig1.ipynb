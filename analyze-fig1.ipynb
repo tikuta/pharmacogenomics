{
 "cells": [
  {
   "cell_type": "code",
   "execution_count": 1,
   "metadata": {},
   "outputs": [],
   "source": [
    "from config import *\n",
    "import vcf\n",
    "import gpcrdb\n",
    "import matplotlib\n",
    "matplotlib.use('Agg')\n",
    "matplotlib.rc('pdf', fonttype=42)\n",
    "import matplotlib.pyplot as plt\n",
    "plt.rcParams['font.family'] = \"Arial\"\n",
    "import numpy as np\n",
    "from utils import VariationType, Segment\n",
    "import ensembl\n",
    "import json\n",
    "from scipy import stats"
   ]
  },
  {
   "cell_type": "code",
   "execution_count": 2,
   "metadata": {},
   "outputs": [],
   "source": [
    "num_cds, num_gene = 0, 0\n",
    "\n",
    "seg_missense, seg_silent, seg_nonsense = {s: 0 for s in Segment}, {s: 0 for s in Segment}, {s: 0 for s in Segment}\n",
    "seg_length = {s: 0 for s in Segment}\n",
    "\n",
    "num_frequent_missense = {s: 0 for s in Segment}\n",
    "seg_length_with_frequent_missense = {s: 0 for s in Segment}\n",
    "num_receptor_with_frequent_missense = 0\n",
    "\n",
    "for receptor in gpcrdb.get_filtered_receptor_list():\n",
    "    ensembl_entry = ensembl.EnsemblGeneEntry(receptor)\n",
    "\n",
    "    for s in Segment:\n",
    "        seg_length[s] += ensembl_entry.segments.count(s)\n",
    "\n",
    "    calls_gene = set()\n",
    "    with open(receptor.japan_gene_vcf_path) as f:\n",
    "        for l in f.readlines():\n",
    "            try:\n",
    "                var = vcf.VariationEntry.load(l)\n",
    "                calls_gene.add((var.chromosome, var.position))\n",
    "            except (vcf.NotPassedError, vcf.BlankLineError):\n",
    "                continue\n",
    "\n",
    "    calls_cds = set()\n",
    "    with open(receptor.japan_cds_vcf_path) as f:\n",
    "        for l in f.readlines():\n",
    "            try:\n",
    "                var = vcf.VariationEntry.load(l)\n",
    "                calls_cds.add((var.chromosome, var.position))\n",
    "            except (vcf.NotPassedError, vcf.BlankLineError):\n",
    "                continue\n",
    "\n",
    "    assert(calls_cds.issubset(calls_gene))\n",
    "    num_cds += len(calls_cds)\n",
    "    num_gene += len(calls_gene)\n",
    "\n",
    "    with open(receptor.japan_cds_csv_path) as f:\n",
    "        num_missense = 0\n",
    "        num_nonsense = 0\n",
    "\n",
    "        for l in f.readlines():\n",
    "            try:\n",
    "                anno = ensembl.Annotation.from_csv_line(l)\n",
    "                if anno.var_type == VariationType.MISSENSE:\n",
    "                    seg_missense[anno.segment] += 1\n",
    "\n",
    "                    if anno.snv.AF > 0.5:\n",
    "                        num_missense += 1\n",
    "                        num_frequent_missense[anno.segment] += 1\n",
    "                elif anno.var_type == VariationType.SILENT:\n",
    "                    seg_silent[anno.segment] += 1\n",
    "                elif anno.var_type == VariationType.NONSENSE:\n",
    "                    seg_nonsense[anno.segment] += 1\n",
    "                    \n",
    "                    num_nonsense += 1\n",
    "            except ensembl.BlankLineError:\n",
    "                continue\n",
    "        if num_missense > 0:\n",
    "            num_receptor_with_frequent_missense += 1\n",
    "            for s in Segment:\n",
    "                seg_length_with_frequent_missense[s] += ensembl_entry.segments.count(s)"
   ]
  },
  {
   "cell_type": "code",
   "execution_count": 53,
   "metadata": {},
   "outputs": [
    {
     "name": "stdout",
     "output_type": "stream",
     "text": [
      "{<Segment.Nterm: 'N-term'>: 23093, <Segment.TM1: 'TM1'>: 2726, <Segment.ICL1: 'ICL1'>: 364, <Segment.TM2: 'TM2'>: 2423, <Segment.ECL1: 'ECL1'>: 443, <Segment.TM3: 'TM3'>: 2966, <Segment.ICL2: 'ICL2'>: 722, <Segment.TM4: 'TM4'>: 2232, <Segment.ECL2: 'ECL2'>: 1593, <Segment.TM5: 'TM5'>: 3076, <Segment.ICL3: 'ICL3'>: 839, <Segment.TM6: 'TM6'>: 2845, <Segment.ECL3: 'ECL3'>: 345, <Segment.TM7: 'TM7'>: 2344, <Segment.ICL4: 'ICL4'>: 1, <Segment.H8: 'H8'>: 1168, <Segment.Cterm: 'C-term'>: 7178, <Segment.NONE: 'None'>: 0, <Segment.FailedToGuess: 'Failed to guess'>: 0}\n",
      "[(278.2289156626506, 42, <Segment.Nterm: 'N-term'>), (32.8433734939759, 5, <Segment.TM1: 'TM1'>), (4.385542168674699, 4, <Segment.ICL1: 'ICL1'>), (29.19277108433735, 2, <Segment.TM2: 'TM2'>), (5.337349397590361, 0, <Segment.ECL1: 'ECL1'>), (35.734939759036145, 4, <Segment.TM3: 'TM3'>), (8.698795180722891, 0, <Segment.ICL2: 'ICL2'>), (26.89156626506024, 8, <Segment.TM4: 'TM4'>), (19.19277108433735, 6, <Segment.ECL2: 'ECL2'>), (37.06024096385542, 9, <Segment.TM5: 'TM5'>), (10.108433734939759, 2, <Segment.ICL3: 'ICL3'>), (34.27710843373494, 7, <Segment.TM6: 'TM6'>), (4.156626506024097, 2, <Segment.ECL3: 'ECL3'>), (28.240963855421686, 3, <Segment.TM7: 'TM7'>), (0.012048192771084338, 0, <Segment.ICL4: 'ICL4'>), (14.072289156626505, 7, <Segment.H8: 'H8'>), (86.48192771084338, 19, <Segment.Cterm: 'C-term'>)]\n"
     ]
    }
   ],
   "source": [
    "print(seg_length_with_frequent_missense)\n",
    "print([(x, y, s) for x, y, s in zip(xs, ys, segs)])"
   ]
  },
  {
   "cell_type": "code",
   "execution_count": 55,
   "metadata": {},
   "outputs": [
    {
     "name": "stderr",
     "output_type": "stream",
     "text": [
      "meta NOT subset; don't know how to subset; dropped\n",
      "C:\\Users\\ikuta\\AppData\\Local\\Temp\\ipykernel_27148\\3408550208.py:27: UserWarning: Matplotlib is currently using agg, which is a non-GUI backend, so cannot show the figure.\n",
      "  fig.show()\n"
     ]
    }
   ],
   "source": [
    "fig, (ax, ax2) = plt.subplots(1, 2, dpi=300, figsize=(7, 2.5))\n",
    "segs = [s for s in Segment if s not in (Segment.FailedToGuess, Segment.NONE)]\n",
    "xs = [seg_length_with_frequent_missense[s] / num_receptor_with_frequent_missense for s in segs]\n",
    "ys = [num_frequent_missense[s] for s in segs]\n",
    "for x, y, s in zip(xs, ys, segs):\n",
    "    ax.scatter(x, y, color=s.color, marker='.', label=s.value)\n",
    "    ax2.scatter(x, y, color=s.color, marker='.', label=s.value)\n",
    "xy = (-5, -1)\n",
    "w, h = 48, 12\n",
    "ax.fill_between([xy[0], xy[0] + w], xy[1], xy[1] + h, color='whitesmoke', zorder=-1)\n",
    "ax2.set_facecolor('whitesmoke')\n",
    "ax.set_xlabel(\"Mean region length [AA]\")\n",
    "ax2.set_xlabel(\"Mean region length [AA]\")\n",
    "ax.set_ylabel(\"Number of missense SNVs\\n(AF > 0.5)\")\n",
    "ax2.set_xlim(xy[0], xy[0] + w)\n",
    "ax2.set_ylim(xy[1], xy[1] + h)\n",
    "ax2.legend(bbox_to_anchor=(1.05, 0.5), loc='center left', ncol=2)\n",
    "\n",
    "res = stats.pearsonr(xs, ys)\n",
    "ax.text(0.05, 0.95, f\"r = {res.statistic:.2f}\\np = {res.pvalue:.1e}\", color='tab:gray', va='top', ha='left', transform=ax.transAxes)\n",
    "res = stats.pearsonr([x for x, s in zip(xs, segs) if s not in Segment.terms()], [y for y, s in zip(ys, segs) if s not in Segment.terms()])\n",
    "ax2.text(0.05, 0.95, f\"r = {res.statistic:.2f}\\np = {res.pvalue:.1e}\", color='tab:gray', va='top', ha='left', transform=ax2.transAxes)\n",
    "\n",
    "fig.tight_layout()\n",
    "fig.savefig(\"./figures/R1_region-length_vs_number-of-frequent-missenses.pdf\")\n",
    "fig.savefig(\"./figures/R1_region-length_vs_number-of-frequent-missenses.png\")\n",
    "fig.show()\n",
    "plt.close(fig)"
   ]
  },
  {
   "cell_type": "code",
   "execution_count": 20,
   "metadata": {},
   "outputs": [
    {
     "name": "stdout",
     "output_type": "stream",
     "text": [
      "Pearson correlation coefficient: 0.9696063776068062 p-value: 1.4033525004848267e-10\n"
     ]
    }
   ],
   "source": [
    "res = stats.pearsonr(xs, ys)\n",
    "print(\"Pearson correlation coefficient:\", res.statistic, \"p-value:\", res.pvalue)"
   ]
  },
  {
   "cell_type": "code",
   "execution_count": 32,
   "metadata": {},
   "outputs": [
    {
     "name": "stdout",
     "output_type": "stream",
     "text": [
      "201611 30242 804 142\n",
      "C-term hypergemometric test p-value: 0.9833479437826564\n"
     ]
    }
   ],
   "source": [
    "obs_H8_C = seg_nonsense[Segment.H8] + seg_nonsense[Segment.Cterm]\n",
    "obs_non_H8_C = sum(seg_nonsense.values()) - obs_H8_C\n",
    "\n",
    "len_H8_C = seg_length[Segment.H8] + seg_length[Segment.Cterm]\n",
    "len_non_H8_C = sum(seg_length.values()) - len_H8_C\n",
    "\n",
    "M = len_H8_C + len_non_H8_C\n",
    "n = len_H8_C\n",
    "N = obs_H8_C + obs_non_H8_C\n",
    "k = obs_H8_C\n",
    "\n",
    "print(M, n, N, k)\n",
    "p_hypergeom = stats.hypergeom.cdf(M=M, n=n, N=N, k=k)\n",
    "print(\"C-term hypergemometric test p-value:\", p_hypergeom)"
   ]
  },
  {
   "cell_type": "code",
   "execution_count": 10,
   "metadata": {},
   "outputs": [
    {
     "name": "stderr",
     "output_type": "stream",
     "text": [
      "meta NOT subset; don't know how to subset; dropped\n"
     ]
    }
   ],
   "source": [
    "fig, (ax1, ax2) = plt.subplots(2, 1, figsize=(6, 6), dpi=300, height_ratios=[1, 5], sharex=True)\n",
    "\n",
    "num_gene_only = num_gene - num_cds\n",
    "x = num_gene_only / num_gene * 100\n",
    "ax1.barh(0, x, color='tab:gray', height=0.25, edgecolor='k', lw=0.2, alpha=0.6)\n",
    "non_coding_text = \"Non-coding region\\n{:,} calls ({:.1f}%)\".format(num_gene_only, x)\n",
    "ax1.text(x / 2, 0, non_coding_text, ha='center', va='center')\n",
    "\n",
    "ax1.barh(0, num_cds / num_gene * 100, left=x, height=0.25, edgecolor='k', lw=0.2, color='tab:orange')\n",
    "coding_text = \"Coding region\\n{:,} calls\\n({:.1f}%)\".format(num_cds, num_cds / num_gene * 100)\n",
    "ax1.text(x + num_cds / num_gene * 100, 0.15, coding_text, ha='center', va='bottom')\n",
    "ax1.set_axis_off()\n",
    "\n",
    "num_missense = sum(seg_missense.values())\n",
    "num_silent = sum(seg_silent.values())\n",
    "num_nonsense = sum(seg_nonsense.values())\n",
    "nums = sum([num_missense, num_silent, num_nonsense])\n",
    "\n",
    "bottom = -1\n",
    "heights_and_segs = {\n",
    "    \"Missense\": (num_missense / nums, seg_missense),\n",
    "    \"Silent\": (num_silent / nums, seg_silent),\n",
    "    \"Nonsense\": (num_nonsense / nums, seg_nonsense)\n",
    "}\n",
    "for i, t in enumerate(heights_and_segs.keys()):\n",
    "    h = heights_and_segs[t][0]\n",
    "    s = heights_and_segs[t][1]\n",
    "    left = 0\n",
    "    bottom = -1 if i == 0 else bottom - h - 0.05\n",
    "    total = sum(s.values())\n",
    "    non_h8_or_cter = 0\n",
    "    for seg in Segment:\n",
    "        width = s.get(seg, 0) / total * 100\n",
    "        ax2.barh(bottom, width, height=h, left=left, color=seg.color, edgecolor='k', lw=0.2, align='edge')\n",
    "        \n",
    "        label = seg.value\n",
    "        if i == 0 and (label.startswith('TM') or label.endswith('-term')):\n",
    "            ax2.text(left + width / 2, bottom + h, label, ha='center', va='bottom', size=7)\n",
    "        left += width\n",
    "\n",
    "        if seg not in (Segment.H8, Segment.Cterm):\n",
    "            non_h8_or_cter += width\n",
    "\n",
    "    text = f\"{t}\\n{total:,} SNVs\\n({h * 100:.1f}%)\"\n",
    "    ax2.text(110, bottom + h / 2, text, ha='center', va='center', multialignment='center')\n",
    "\n",
    "    if i == 2:\n",
    "        ax2.plot([0, non_h8_or_cter], [bottom - 0.03] * 2, lw=1, color='tab:gray')\n",
    "        ax2.text(non_h8_or_cter / 2, bottom - 0.04, f\"{non_h8_or_cter:.1f}%\", ha='center', va='top', size=8, color='tab:gray')\n",
    "\n",
    "ax2.spines['right'].set_visible(False)\n",
    "ax2.spines['left'].set_visible(False)\n",
    "ax2.spines['top'].set_visible(False)\n",
    "ax2.set_yticks([])\n",
    "ax2.set_xlim(0, 100)\n",
    "ax2.set_xlabel(\"Calls / SNVs [%]\")\n",
    "\n",
    "fig.tight_layout()\n",
    "fig.savefig(\"./figures/1ac_variations.pdf\")"
   ]
  },
  {
   "cell_type": "code",
   "execution_count": 17,
   "metadata": {},
   "outputs": [],
   "source": [
    "fig, (ax1, ax2) = plt.subplots(1, 2, figsize=(6, 1), dpi=300, sharex=True)\n",
    "\n",
    "num_gene_only = num_gene - num_cds\n",
    "x = num_gene_only / num_gene * 100\n",
    "ax1.barh(0, x, color='tab:gray', height=0.25, edgecolor='k', lw=0.2, alpha=0.6)\n",
    "\n",
    "ax1.barh(0, num_cds / num_gene * 100, left=x, height=0.25, edgecolor='k', lw=0.2, color='tab:orange')\n",
    "ax1.set_axis_off()\n",
    "\n",
    "num_missense = sum(seg_missense.values())\n",
    "num_silent = sum(seg_silent.values())\n",
    "num_nonsense = sum(seg_nonsense.values())\n",
    "nums = sum([num_missense, num_silent, num_nonsense])\n",
    "\n",
    "left = 0\n",
    "width = num_missense / nums * 100\n",
    "ax2.barh(0, width, left=left, color='tab:orange', height=0.25, edgecolor='k', lw=0.2)\n",
    "left += width\n",
    "width = num_silent / nums * 100\n",
    "ax2.barh(0, width, left=left, color='tab:gray', height=0.25, edgecolor='k', lw=0.2, alpha=0.6)\n",
    "left += width\n",
    "width = num_nonsense / nums * 100\n",
    "ax2.barh(0, width, left=left, color='tab:gray', height=0.25, edgecolor='k', lw=0.2)\n",
    "left += width\n",
    "\n",
    "ax2.set_axis_off()\n",
    "\n",
    "fig.tight_layout()\n",
    "fig.savefig(\"./figures/PR1_variations.pdf\")"
   ]
  }
 ],
 "metadata": {
  "kernelspec": {
   "display_name": "Python 3",
   "language": "python",
   "name": "python3"
  },
  "language_info": {
   "codemirror_mode": {
    "name": "ipython",
    "version": 3
   },
   "file_extension": ".py",
   "mimetype": "text/x-python",
   "name": "python",
   "nbconvert_exporter": "python",
   "pygments_lexer": "ipython3",
   "version": "3.11.4"
  }
 },
 "nbformat": 4,
 "nbformat_minor": 2
}
