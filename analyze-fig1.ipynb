{
 "cells": [
  {
   "cell_type": "code",
   "execution_count": 1,
   "metadata": {},
   "outputs": [],
   "source": [
    "from config import *\n",
    "import vcf\n",
    "import gpcrdb\n",
    "import matplotlib\n",
    "matplotlib.use('Agg')\n",
    "matplotlib.rc('pdf', fonttype=42)\n",
    "import matplotlib.pyplot as plt\n",
    "plt.rcParams['font.family'] = \"Arial\"\n",
    "import numpy as np\n",
    "from utils import VariationType, Segment\n",
    "import ensembl\n",
    "import json\n",
    "from scipy import stats"
   ]
  },
  {
   "cell_type": "code",
   "execution_count": 14,
   "metadata": {},
   "outputs": [],
   "source": [
    "num_cds, num_gene = 0, 0\n",
    "\n",
    "seg_missense, seg_silent, seg_nonsense = {s: 0 for s in Segment}, {s: 0 for s in Segment}, {s: 0 for s in Segment}\n",
    "seg_length = {s: 0 for s in Segment}\n",
    "\n",
    "num_frequent_missense = {s: 0 for s in Segment}\n",
    "seg_length_with_frequent_missense = {s: 0 for s in Segment}\n",
    "num_receptor_with_frequent_missense = 0\n",
    "\n",
    "for receptor in gpcrdb.get_filtered_receptor_list():\n",
    "    ensembl_entry = ensembl.EnsemblGeneEntry(receptor)\n",
    "\n",
    "    for s in Segment:\n",
    "        seg_length[s] += ensembl_entry.segments.count(s)\n",
    "\n",
    "    calls_gene = set()\n",
    "    with open(receptor.japan_gene_vcf_path) as f:\n",
    "        for l in f.readlines():\n",
    "            try:\n",
    "                var = vcf.VariationEntry.load_from_54KJPN(l)\n",
    "                calls_gene.add((var.chromosome, var.position))\n",
    "            except (vcf.NotPassedError, vcf.BlankLineError):\n",
    "                continue\n",
    "\n",
    "    calls_cds = set()\n",
    "    with open(receptor.japan_cds_vcf_path) as f:\n",
    "        for l in f.readlines():\n",
    "            try:\n",
    "                var = vcf.VariationEntry.load_from_54KJPN(l)\n",
    "                calls_cds.add((var.chromosome, var.position))\n",
    "            except (vcf.NotPassedError, vcf.BlankLineError):\n",
    "                continue\n",
    "\n",
    "    assert(calls_cds.issubset(calls_gene))\n",
    "    num_cds += len(calls_cds)\n",
    "    num_gene += len(calls_gene)\n",
    "\n",
    "    with open(receptor.japan_cds_csv_path) as f:\n",
    "        num_missense = 0\n",
    "        num_nonsense = 0\n",
    "\n",
    "        for l in f.readlines():\n",
    "            try:\n",
    "                anno = ensembl.Annotation.from_csv_line(l)\n",
    "                if anno.var_type == VariationType.MISSENSE:\n",
    "                    seg_missense[anno.segment] += 1\n",
    "\n",
    "                    if anno.snv.AF > 0.5:\n",
    "                        num_missense += 1\n",
    "                        num_frequent_missense[anno.segment] += 1\n",
    "                elif anno.var_type == VariationType.SILENT:\n",
    "                    seg_silent[anno.segment] += 1\n",
    "                elif anno.var_type == VariationType.NONSENSE:\n",
    "                    seg_nonsense[anno.segment] += 1\n",
    "                    \n",
    "                    num_nonsense += 1\n",
    "            except ensembl.BlankLineError:\n",
    "                continue\n",
    "        if num_missense > 0:\n",
    "            num_receptor_with_frequent_missense += 1\n",
    "            for s in Segment:\n",
    "                seg_length_with_frequent_missense[s] += ensembl_entry.segments.count(s)"
   ]
  },
  {
   "cell_type": "code",
   "execution_count": 21,
   "metadata": {},
   "outputs": [
    {
     "name": "stderr",
     "output_type": "stream",
     "text": [
      "meta NOT subset; don't know how to subset; dropped\n",
      "C:\\Users\\ikuta\\AppData\\Local\\Temp\\ipykernel_30772\\1281273808.py:13: UserWarning: Matplotlib is currently using agg, which is a non-GUI backend, so cannot show the figure.\n",
      "  fig.show()\n"
     ]
    }
   ],
   "source": [
    "fig, ax = plt.subplots(1, 1, dpi=300, figsize=(5, 2.5))\n",
    "segs = [s for s in Segment if s not in (Segment.FailedToGuess, Segment.NONE)]\n",
    "xs = [seg_length_with_frequent_missense[s] / num_receptor_with_frequent_missense for s in segs]\n",
    "ys = [num_frequent_missense[s] for s in segs]\n",
    "for x, y, s in zip(xs, ys, segs):\n",
    "    ax.scatter(x, y, color=s.color, marker='.', label=s.value)\n",
    "ax.set_xlabel(\"Mean region length [AA]\")\n",
    "ax.set_ylabel(\"Number of missense SNVs\\n(AF > 0.5)\")\n",
    "ax.legend(bbox_to_anchor=(1.05, 0.5), loc='center left', ncol=2)\n",
    "fig.tight_layout()\n",
    "fig.savefig(\"./figures/R1_region-length_vs_number-of-frequent-missenses.pdf\")\n",
    "fig.savefig(\"./figures/R1_region-length_vs_number-of-frequent-missenses.png\")\n",
    "fig.show()\n",
    "plt.close(fig)"
   ]
  },
  {
   "cell_type": "code",
   "execution_count": 20,
   "metadata": {},
   "outputs": [
    {
     "name": "stdout",
     "output_type": "stream",
     "text": [
      "Pearson correlation coefficient: 0.9696063776068062 p-value: 1.4033525004848267e-10\n"
     ]
    }
   ],
   "source": [
    "res = stats.pearsonr(xs, ys)\n",
    "print(\"Pearson correlation coefficient:\", res.statistic, \"p-value:\", res.pvalue)"
   ]
  },
  {
   "cell_type": "code",
   "execution_count": 32,
   "metadata": {},
   "outputs": [
    {
     "name": "stdout",
     "output_type": "stream",
     "text": [
      "201611 30242 804 142\n",
      "C-term hypergemometric test p-value: 0.9833479437826564\n"
     ]
    }
   ],
   "source": [
    "obs_H8_C = seg_nonsense[Segment.H8] + seg_nonsense[Segment.Cterm]\n",
    "obs_non_H8_C = sum(seg_nonsense.values()) - obs_H8_C\n",
    "\n",
    "len_H8_C = seg_length[Segment.H8] + seg_length[Segment.Cterm]\n",
    "len_non_H8_C = sum(seg_length.values()) - len_H8_C\n",
    "\n",
    "M = len_H8_C + len_non_H8_C\n",
    "n = len_H8_C\n",
    "N = obs_H8_C + obs_non_H8_C\n",
    "k = obs_H8_C\n",
    "\n",
    "print(M, n, N, k)\n",
    "p_hypergeom = stats.hypergeom.cdf(M=M, n=n, N=N, k=k)\n",
    "print(\"C-term hypergemometric test p-value:\", p_hypergeom)"
   ]
  },
  {
   "cell_type": "code",
   "execution_count": 10,
   "metadata": {},
   "outputs": [
    {
     "name": "stderr",
     "output_type": "stream",
     "text": [
      "meta NOT subset; don't know how to subset; dropped\n"
     ]
    }
   ],
   "source": [
    "fig, (ax1, ax2) = plt.subplots(2, 1, figsize=(6, 6), dpi=300, height_ratios=[1, 5], sharex=True)\n",
    "\n",
    "num_gene_only = num_gene - num_cds\n",
    "x = num_gene_only / num_gene * 100\n",
    "ax1.barh(0, x, color='tab:gray', height=0.25, edgecolor='k', lw=0.2, alpha=0.6)\n",
    "non_coding_text = \"Non-coding region\\n{:,} calls ({:.1f}%)\".format(num_gene_only, x)\n",
    "ax1.text(x / 2, 0, non_coding_text, ha='center', va='center')\n",
    "\n",
    "ax1.barh(0, num_cds / num_gene * 100, left=x, height=0.25, edgecolor='k', lw=0.2, color='tab:orange')\n",
    "coding_text = \"Coding region\\n{:,} calls\\n({:.1f}%)\".format(num_cds, num_cds / num_gene * 100)\n",
    "ax1.text(x + num_cds / num_gene * 100, 0.15, coding_text, ha='center', va='bottom')\n",
    "ax1.set_axis_off()\n",
    "\n",
    "num_missense = sum(seg_missense.values())\n",
    "num_silent = sum(seg_silent.values())\n",
    "num_nonsense = sum(seg_nonsense.values())\n",
    "nums = sum([num_missense, num_silent, num_nonsense])\n",
    "\n",
    "bottom = -1\n",
    "heights_and_segs = {\n",
    "    \"Missense\": (num_missense / nums, seg_missense),\n",
    "    \"Silent\": (num_silent / nums, seg_silent),\n",
    "    \"Nonsense\": (num_nonsense / nums, seg_nonsense)\n",
    "}\n",
    "for i, t in enumerate(heights_and_segs.keys()):\n",
    "    h = heights_and_segs[t][0]\n",
    "    s = heights_and_segs[t][1]\n",
    "    left = 0\n",
    "    bottom = -1 if i == 0 else bottom - h - 0.05\n",
    "    total = sum(s.values())\n",
    "    non_h8_or_cter = 0\n",
    "    for seg in Segment:\n",
    "        width = s.get(seg.value, 0) / total * 100\n",
    "        ax2.barh(bottom, width, height=h, left=left, color=seg.color, edgecolor='k', lw=0.2, align='edge')\n",
    "        \n",
    "        label = seg.value\n",
    "        if i == 0 and (label.startswith('TM') or label.endswith('-term')):\n",
    "            ax2.text(left + width / 2, bottom + h, label, ha='center', va='bottom', size=7)\n",
    "        left += width\n",
    "\n",
    "        if seg not in (Segment.H8, Segment.Cterm):\n",
    "            non_h8_or_cter += width\n",
    "\n",
    "    text = f\"{t}\\n{total:,} SNVs\\n({h / 2 * 100:.1f}%)\"\n",
    "    ax2.text(110, bottom + h / 2, text, ha='center', va='center', multialignment='center')\n",
    "\n",
    "    if i == 2:\n",
    "        ax2.plot([0, non_h8_or_cter], [bottom - 0.03] * 2, lw=1, color='tab:gray')\n",
    "        ax2.text(non_h8_or_cter / 2, bottom - 0.04, f\"{non_h8_or_cter:.1f}%\", ha='center', va='top', size=8, color='tab:gray')\n",
    "\n",
    "ax2.spines['right'].set_visible(False)\n",
    "ax2.spines['left'].set_visible(False)\n",
    "ax2.spines['top'].set_visible(False)\n",
    "ax2.set_yticks([])\n",
    "ax2.set_xlim(0, 100)\n",
    "ax2.set_xlabel(\"Calls / SNVs [%]\")\n",
    "\n",
    "fig.tight_layout()\n",
    "fig.savefig(\"./figures/1ac_variations.pdf\")"
   ]
  }
 ],
 "metadata": {
  "kernelspec": {
   "display_name": "Python 3",
   "language": "python",
   "name": "python3"
  },
  "language_info": {
   "codemirror_mode": {
    "name": "ipython",
    "version": 3
   },
   "file_extension": ".py",
   "mimetype": "text/x-python",
   "name": "python",
   "nbconvert_exporter": "python",
   "pygments_lexer": "ipython3",
   "version": "3.11.4"
  }
 },
 "nbformat": 4,
 "nbformat_minor": 2
}
