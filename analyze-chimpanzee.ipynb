{
 "cells": [
  {
   "cell_type": "code",
   "execution_count": 29,
   "metadata": {},
   "outputs": [],
   "source": [
    "import matplotlib\n",
    "matplotlib.use('Agg')\n",
    "matplotlib.rc('pdf', fonttype=42)\n",
    "import matplotlib.pyplot as plt\n",
    "plt.rcParams['font.family'] = \"Arial\"\n",
    "import gpcrdb\n",
    "from ape import EnsemblHomology, GreatApe, EnsemblHomologGene, Annotation, MatchedResidue\n",
    "from config import *\n",
    "import os\n",
    "from utils import *"
   ]
  },
  {
   "cell_type": "code",
   "execution_count": 2,
   "metadata": {},
   "outputs": [
    {
     "name": "stdout",
     "output_type": "stream",
     "text": [
      "258\n"
     ]
    }
   ],
   "source": [
    "family_A_homolog = set()\n",
    "for gpcrdb_entry in gpcrdb.get_filtered_receptor_list():\n",
    "        homology = EnsemblHomology(gpcrdb_entry, GreatApe.chimpanzee)\n",
    "        for human_gene_id, chimp_gene_id in homology.gene_ids.items():\n",
    "            if chimp_gene_id in CHIMPANZEE_BLOCK_LIST:\n",
    "                continue\n",
    "            ensembl_entry = EnsemblHomologGene(chimp_gene_id, GreatApe.chimpanzee, gpcrdb_entry, human_gene_id)\n",
    "            if gpcrdb_entry.receptor_class == 'Class A (Rhodopsin)':\n",
    "                 family_A_homolog.add(chimp_gene_id) # FFAR3 and GPR42 have the same homolog (ENSPTRG00000029043).\n",
    "print(len(family_A_homolog))"
   ]
  },
  {
   "cell_type": "code",
   "execution_count": 43,
   "metadata": {},
   "outputs": [],
   "source": [
    "aa3x50 = {chr(ord('A') + i): [] for i in range(26)}\n",
    "for gene_id in family_A_homolog:\n",
    "    ali = os.path.join(\"apes\", GreatApe.chimpanzee.value, f\"{gene_id}.csv\")\n",
    "    with open(ali) as f:\n",
    "        for l in f:\n",
    "            mr = MatchedResidue.from_csv_line(l)\n",
    "            if mr:\n",
    "                if mr.generic_number == \"3.50x50\":\n",
    "                    aa3x50[mr.source_residue_aa].append(gene_id)\n",
    "                    break\n",
    "        else:\n",
    "            print(gene_id)"
   ]
  },
  {
   "cell_type": "code",
   "execution_count": 70,
   "metadata": {},
   "outputs": [
    {
     "name": "stderr",
     "output_type": "stream",
     "text": [
      "meta NOT subset; don't know how to subset; dropped\n"
     ]
    }
   ],
   "source": [
    "# Fig. R2a\n",
    "fig, ax = plt.subplots(1, 1, figsize=(4, 1.5))\n",
    "amino_acids = [aa for aa in aa3x50.keys() if len(aa3x50[aa]) > 0]\n",
    "amino_acids.sort(key=lambda aa: len(aa3x50[aa]), reverse=True)\n",
    "left = 0\n",
    "ax2 = ax.twiny()\n",
    "for aa in amino_acids:\n",
    "    width = len(aa3x50[aa])\n",
    "    ax.barh(0, width, left=left, color='tab:orange' if aa == 'R' else 'lightgray', linewidth=0.5, edgecolor='k')\n",
    "    left += width\n",
    "\n",
    "    if aa == 'R':\n",
    "        ax.text(left / 2, 0, f\"Arg\\n({width})\", ha='center', va='center')\n",
    "ax.set_xticks([50 * i for i in range(6)])\n",
    "ax.set_xlabel(\"Number of family A GPCR homologs in chimpanzee\")\n",
    "ax.set_xlim(0, left)\n",
    "\n",
    "ax2.set_xlim(0, left)\n",
    "ax2.set_xticks([left])\n",
    "\n",
    "ax.set_yticks([])\n",
    "ax.set_ylim(-0.5, 0.5)\n",
    "\n",
    "fig.tight_layout()\n",
    "fig.savefig(\"./figures/R2a_3x50_aa.pdf\")\n",
    "plt.close()"
   ]
  },
  {
   "cell_type": "code",
   "execution_count": 71,
   "metadata": {},
   "outputs": [],
   "source": [
    "def gn_sorter(gn):\n",
    "    seg, pos = gn.split('x')\n",
    "    seg, pos = int(seg), int(pos)\n",
    "    if seg < 10:\n",
    "        seg *= 10\n",
    "    return seg, pos\n",
    "\n",
    "generic_numbers_assigned = {}\n",
    "for gene_id in family_A_homolog:\n",
    "    ali = os.path.join(\"apes\", GreatApe.chimpanzee.value, f\"{gene_id}.csv\")\n",
    "    with open(ali) as f:\n",
    "        for l in f:\n",
    "            mr = MatchedResidue.from_csv_line(l)\n",
    "            if mr and mr.generic_number:\n",
    "                gn = f\"{mr.generic_number.split('.')[0]}x{mr.generic_number.split('x')[-1]}\"\n",
    "                generic_numbers_assigned[gn] = generic_numbers_assigned.get(gn, 0) + 1\n",
    "\n",
    "generic_numbers = list(generic_numbers_assigned.keys())\n",
    "generic_numbers.sort(key=gn_sorter)"
   ]
  },
  {
   "cell_type": "code",
   "execution_count": 72,
   "metadata": {},
   "outputs": [],
   "source": [
    "missenses = {}\n",
    "for gene_id in family_A_homolog:\n",
    "    csv = os.path.join(\"apes\", GreatApe.chimpanzee.value, f\"{gene_id}_CDS.csv\")\n",
    "    with open(csv) as f:\n",
    "        for l in f:\n",
    "            anno = Annotation.from_csv_line(l)\n",
    "            if anno and anno.generic_number and anno.var_type == VariationType.MISSENSE:\n",
    "                gn = f\"{anno.generic_number.split('.')[0]}x{anno.generic_number.split('x')[-1]}\"\n",
    "                missenses[gn] = missenses.get(gn, 0) + 1"
   ]
  },
  {
   "cell_type": "code",
   "execution_count": 73,
   "metadata": {},
   "outputs": [
    {
     "name": "stdout",
     "output_type": "stream",
     "text": [
      "Gs only 3x55 34x54 5x64 5x69 5x72 5x74 5x75 5x77\n",
      "Gi only 12x49 34x52\n",
      "Gq only 2x37 2x39 3x49 34x53 34x56 34x57 4x38 4x39 6x30\n",
      "Gs^Gi 5x71\n",
      "Gi^Gq 2x40 8x49\n",
      "Gq^Gs 8x48\n",
      "Gs^Gi^Gq 3x50 3x53 3x54 34x50 34x51 34x55 5x65 5x68 6x32 6x33 6x36 6x37 7x56 8x47\n"
     ]
    }
   ],
   "source": [
    "common_residues = {\"3x50\", \"3x53\", \"3x54\", \"34x50\", \"34x51\", \"34x55\", \"5x65\", \"5x68\", \"6x32\", \"6x33\", \"6x36\", \"6x37\", \"7x56\", \"8x47\"}\n",
    "gs_residues = common_residues | {\"3x54\", \"3x55\", \"34x51\", \"34x54\", \"34x55\", \"5x64\", \"5x68\", \"5x69\", \"5x71\", \"5x72\", \"5x74\", \"5x75\", \"5x77\", \"8x48\"}\n",
    "gi_residues = common_residues | {\"12x49\", \"2x40\", \"3x50\", \"3x53\", \"34x52\", \"34x55\", \"5x71\", \"6x32\", \"7x56\", \"8x47\", \"8x49\"}\n",
    "gq_residues = common_residues | {\"2x37\", \"2x39\", \"2x40\", \"3x49\", \"34x51\", \"34x53\", \"34x55\", \"34x56\", \"34x57\", \"4x38\", \"4x39\", \"6x30\", \"6x33\", \"8x48\", \"8x49\"}\n",
    "\n",
    "roi = frozenset(gs_residues | gi_residues | gq_residues)\n",
    "gs_only = frozenset(gs_residues - gi_residues - gq_residues)\n",
    "print(\"Gs only\", \" \".join(sorted(list(gs_only), key=gn_sorter)))\n",
    "gi_only = frozenset(gi_residues - gs_residues - gq_residues)\n",
    "print(\"Gi only\", \" \".join(sorted(list(gi_only), key=gn_sorter)))\n",
    "gq_only = frozenset(gq_residues - gs_residues - gi_residues)\n",
    "print(\"Gq only\", \" \".join(sorted(list(gq_only), key=gn_sorter)))\n",
    "gs_gi = frozenset(gs_residues & gi_residues - gq_residues)\n",
    "print(\"Gs^Gi\", \" \".join(sorted(list(gs_gi), key=gn_sorter)))\n",
    "gi_gq = frozenset(gi_residues & gq_residues - gs_residues)\n",
    "print(\"Gi^Gq\", \" \".join(sorted(list(gi_gq), key=gn_sorter)))\n",
    "gq_gs = frozenset(gq_residues & gs_residues - gi_residues)\n",
    "print(\"Gq^Gs\", \" \".join(sorted(list(gq_gs), key=gn_sorter)))\n",
    "gs_gi_gq = frozenset(gs_residues & gi_residues & gq_residues)\n",
    "print(\"Gs^Gi^Gq\", \" \".join(sorted(list(gs_gi_gq), key=gn_sorter)))"
   ]
  },
  {
   "cell_type": "code",
   "execution_count": 76,
   "metadata": {},
   "outputs": [
    {
     "name": "stderr",
     "output_type": "stream",
     "text": [
      "meta NOT subset; don't know how to subset; dropped\n"
     ]
    }
   ],
   "source": [
    "# Fig. R2b\n",
    "fig, ax = plt.subplots(1, 1, figsize=(4, 8))\n",
    "ax.invert_yaxis()\n",
    "yticks, yticklabels = [], []\n",
    "for y, gn in enumerate(generic_numbers):\n",
    "    ax.barh(y, generic_numbers_assigned.get(gn, 0), height=1, left=0, color='lightgray')\n",
    "    ax.barh(y, missenses.get(gn, 0), height=1, left=0, color=Segment.generic_number_of(gn).color)\n",
    "    if gn.endswith('x50'):\n",
    "        yticks.append(y)\n",
    "        yticklabels.append(gn)\n",
    "\n",
    "ax.set_yticks(yticks)\n",
    "ax.set_yticklabels(yticklabels)\n",
    "ax.set_ylim(y + 1, -1)\n",
    "ax.set_ylabel(\"Structure-based generic number\")\n",
    "\n",
    "ax.set_yticks([y for y, gn in enumerate(generic_numbers) if gn in roi], minor=True)\n",
    "ax.set_yticklabels([], minor=True)\n",
    "ax.tick_params(axis='y', which='minor', color='tab:orange', width=1, length=3)\n",
    "\n",
    "ax.set_xlim(0, len(family_A_homolog))\n",
    "ax.set_xlabel(\"Number of family A GPCR homologs in chimpanzee\")\n",
    "\n",
    "fig.tight_layout()\n",
    "fig.savefig(\"./figures/R2b_chimpanzee.pdf\")\n",
    "fig.savefig(\"./figures/R2b_chimpanzee.png\")"
   ]
  },
  {
   "cell_type": "code",
   "execution_count": 75,
   "metadata": {},
   "outputs": [
    {
     "name": "stdout",
     "output_type": "stream",
     "text": [
      "ENSPTRG00000004170 R138S AF=1.0=50/50\n",
      "ENSPTRG00000038846 R156G AF=1.0=50/50\n",
      "ENSPTRG00000018611 R132C AF=1.0=50/50\n",
      "ENSPTRG00000002985 R159G AF=0.06=3/50\n",
      "ENSPTRG00000028910 R139G AF=1.0=50/50\n"
     ]
    }
   ],
   "source": [
    "r3x50_missenses = {}\n",
    "for gene_id in family_A_homolog:\n",
    "    csv = os.path.join(\"apes\", GreatApe.chimpanzee.value, f\"{gene_id}_CDS.csv\")\n",
    "    with open(csv) as f:\n",
    "        for l in f:\n",
    "            anno = Annotation.from_csv_line(l)\n",
    "            if anno and anno.ref_aa == 'R' and anno.generic_number == '3.50x50' and anno.var_type == VariationType.MISSENSE:\n",
    "                r3x50_missenses[gene_id] = anno\n",
    "for gene_id, anno in r3x50_missenses.items():\n",
    "    print(gene_id, f\"{anno.ref_aa}{anno.residue_number}{anno.alt_aa}\", f\"AF={anno.snv.AF}={anno.snv.AC}/{anno.snv.AN}\")"
   ]
  }
 ],
 "metadata": {
  "kernelspec": {
   "display_name": "Python 3",
   "language": "python",
   "name": "python3"
  },
  "language_info": {
   "codemirror_mode": {
    "name": "ipython",
    "version": 3
   },
   "file_extension": ".py",
   "mimetype": "text/x-python",
   "name": "python",
   "nbconvert_exporter": "python",
   "pygments_lexer": "ipython3",
   "version": "3.11.4"
  }
 },
 "nbformat": 4,
 "nbformat_minor": 2
}
